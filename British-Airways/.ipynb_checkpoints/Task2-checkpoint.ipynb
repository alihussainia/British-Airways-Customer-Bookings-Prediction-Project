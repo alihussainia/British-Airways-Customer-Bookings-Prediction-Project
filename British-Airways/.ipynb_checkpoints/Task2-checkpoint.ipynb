{
 "cells": [
  {
   "cell_type": "code",
   "execution_count": null,
   "metadata": {},
   "outputs": [],
   "source": [
    "!pip install pycaret"
   ]
  },
  {
   "cell_type": "code",
   "execution_count": 135,
   "metadata": {},
   "outputs": [
    {
     "name": "stdout",
     "output_type": "stream",
     "text": [
      "Collecting numpy==1.20.0\n",
      "  Downloading numpy-1.20.0-cp39-cp39-manylinux2010_x86_64.whl (15.4 MB)\n",
      "\u001b[K     |████████████████████████████████| 15.4 MB 3.7 MB/s eta 0:00:01\n",
      "\u001b[?25hInstalling collected packages: numpy\n",
      "  Attempting uninstall: numpy\n",
      "    Found existing installation: numpy 1.19.5\n",
      "    Uninstalling numpy-1.19.5:\n",
      "      Successfully uninstalled numpy-1.19.5\n",
      "\u001b[31mERROR: pip's dependency resolver does not currently take into account all the packages that are installed. This behaviour is the source of the following dependency conflicts.\n",
      "yellowbrick 1.3.post1 requires numpy<1.20,>=1.16.0, but you have numpy 1.20.0 which is incompatible.\u001b[0m\n",
      "Successfully installed numpy-1.20.0\n"
     ]
    }
   ],
   "source": [
    "!pip install numpy==1.20.0"
   ]
  },
  {
   "cell_type": "code",
   "execution_count": 76,
   "metadata": {},
   "outputs": [],
   "source": [
    "import pandas as pd"
   ]
  },
  {
   "cell_type": "code",
   "execution_count": 77,
   "metadata": {},
   "outputs": [
    {
     "data": {
      "text/html": [
       "<div>\n",
       "<style scoped>\n",
       "    .dataframe tbody tr th:only-of-type {\n",
       "        vertical-align: middle;\n",
       "    }\n",
       "\n",
       "    .dataframe tbody tr th {\n",
       "        vertical-align: top;\n",
       "    }\n",
       "\n",
       "    .dataframe thead th {\n",
       "        text-align: right;\n",
       "    }\n",
       "</style>\n",
       "<table border=\"1\" class=\"dataframe\">\n",
       "  <thead>\n",
       "    <tr style=\"text-align: right;\">\n",
       "      <th></th>\n",
       "      <th>num_passengers</th>\n",
       "      <th>sales_channel</th>\n",
       "      <th>trip_type</th>\n",
       "      <th>purchase_lead</th>\n",
       "      <th>length_of_stay</th>\n",
       "      <th>flight_hour</th>\n",
       "      <th>flight_day</th>\n",
       "      <th>route</th>\n",
       "      <th>booking_origin</th>\n",
       "      <th>wants_extra_baggage</th>\n",
       "      <th>wants_preferred_seat</th>\n",
       "      <th>wants_in_flight_meals</th>\n",
       "      <th>flight_duration</th>\n",
       "      <th>booking_complete</th>\n",
       "    </tr>\n",
       "  </thead>\n",
       "  <tbody>\n",
       "    <tr>\n",
       "      <th>0</th>\n",
       "      <td>2</td>\n",
       "      <td>Internet</td>\n",
       "      <td>RoundTrip</td>\n",
       "      <td>262</td>\n",
       "      <td>19</td>\n",
       "      <td>7</td>\n",
       "      <td>Sat</td>\n",
       "      <td>AKLDEL</td>\n",
       "      <td>New Zealand</td>\n",
       "      <td>1</td>\n",
       "      <td>0</td>\n",
       "      <td>0</td>\n",
       "      <td>5.52</td>\n",
       "      <td>0</td>\n",
       "    </tr>\n",
       "    <tr>\n",
       "      <th>1</th>\n",
       "      <td>1</td>\n",
       "      <td>Internet</td>\n",
       "      <td>RoundTrip</td>\n",
       "      <td>112</td>\n",
       "      <td>20</td>\n",
       "      <td>3</td>\n",
       "      <td>Sat</td>\n",
       "      <td>AKLDEL</td>\n",
       "      <td>New Zealand</td>\n",
       "      <td>0</td>\n",
       "      <td>0</td>\n",
       "      <td>0</td>\n",
       "      <td>5.52</td>\n",
       "      <td>0</td>\n",
       "    </tr>\n",
       "    <tr>\n",
       "      <th>2</th>\n",
       "      <td>2</td>\n",
       "      <td>Internet</td>\n",
       "      <td>RoundTrip</td>\n",
       "      <td>243</td>\n",
       "      <td>22</td>\n",
       "      <td>17</td>\n",
       "      <td>Wed</td>\n",
       "      <td>AKLDEL</td>\n",
       "      <td>India</td>\n",
       "      <td>1</td>\n",
       "      <td>1</td>\n",
       "      <td>0</td>\n",
       "      <td>5.52</td>\n",
       "      <td>0</td>\n",
       "    </tr>\n",
       "    <tr>\n",
       "      <th>3</th>\n",
       "      <td>1</td>\n",
       "      <td>Internet</td>\n",
       "      <td>RoundTrip</td>\n",
       "      <td>96</td>\n",
       "      <td>31</td>\n",
       "      <td>4</td>\n",
       "      <td>Sat</td>\n",
       "      <td>AKLDEL</td>\n",
       "      <td>New Zealand</td>\n",
       "      <td>0</td>\n",
       "      <td>0</td>\n",
       "      <td>1</td>\n",
       "      <td>5.52</td>\n",
       "      <td>0</td>\n",
       "    </tr>\n",
       "    <tr>\n",
       "      <th>4</th>\n",
       "      <td>2</td>\n",
       "      <td>Internet</td>\n",
       "      <td>RoundTrip</td>\n",
       "      <td>68</td>\n",
       "      <td>22</td>\n",
       "      <td>15</td>\n",
       "      <td>Wed</td>\n",
       "      <td>AKLDEL</td>\n",
       "      <td>India</td>\n",
       "      <td>1</td>\n",
       "      <td>0</td>\n",
       "      <td>1</td>\n",
       "      <td>5.52</td>\n",
       "      <td>0</td>\n",
       "    </tr>\n",
       "  </tbody>\n",
       "</table>\n",
       "</div>"
      ],
      "text/plain": [
       "   num_passengers sales_channel  trip_type  purchase_lead  length_of_stay  \\\n",
       "0               2      Internet  RoundTrip            262              19   \n",
       "1               1      Internet  RoundTrip            112              20   \n",
       "2               2      Internet  RoundTrip            243              22   \n",
       "3               1      Internet  RoundTrip             96              31   \n",
       "4               2      Internet  RoundTrip             68              22   \n",
       "\n",
       "   flight_hour flight_day   route booking_origin  wants_extra_baggage  \\\n",
       "0            7        Sat  AKLDEL    New Zealand                    1   \n",
       "1            3        Sat  AKLDEL    New Zealand                    0   \n",
       "2           17        Wed  AKLDEL          India                    1   \n",
       "3            4        Sat  AKLDEL    New Zealand                    0   \n",
       "4           15        Wed  AKLDEL          India                    1   \n",
       "\n",
       "   wants_preferred_seat  wants_in_flight_meals  flight_duration  \\\n",
       "0                     0                      0             5.52   \n",
       "1                     0                      0             5.52   \n",
       "2                     1                      0             5.52   \n",
       "3                     0                      1             5.52   \n",
       "4                     0                      1             5.52   \n",
       "\n",
       "   booking_complete  \n",
       "0                 0  \n",
       "1                 0  \n",
       "2                 0  \n",
       "3                 0  \n",
       "4                 0  "
      ]
     },
     "execution_count": 77,
     "metadata": {},
     "output_type": "execute_result"
    }
   ],
   "source": [
    "df = pd.read_csv(\"data/customer_booking.csv\", encoding=\"ISO-8859-1\")\n",
    "df.head()"
   ]
  },
  {
   "cell_type": "markdown",
   "metadata": {},
   "source": [
    "The `.head()` method allows us to view the first 5 rows in the dataset, this is useful for visual inspection of our columns"
   ]
  },
  {
   "cell_type": "code",
   "execution_count": 78,
   "metadata": {},
   "outputs": [
    {
     "name": "stdout",
     "output_type": "stream",
     "text": [
      "<class 'pandas.core.frame.DataFrame'>\n",
      "RangeIndex: 50000 entries, 0 to 49999\n",
      "Data columns (total 14 columns):\n",
      " #   Column                 Non-Null Count  Dtype  \n",
      "---  ------                 --------------  -----  \n",
      " 0   num_passengers         50000 non-null  int64  \n",
      " 1   sales_channel          50000 non-null  object \n",
      " 2   trip_type              50000 non-null  object \n",
      " 3   purchase_lead          50000 non-null  int64  \n",
      " 4   length_of_stay         50000 non-null  int64  \n",
      " 5   flight_hour            50000 non-null  int64  \n",
      " 6   flight_day             50000 non-null  object \n",
      " 7   route                  50000 non-null  object \n",
      " 8   booking_origin         50000 non-null  object \n",
      " 9   wants_extra_baggage    50000 non-null  int64  \n",
      " 10  wants_preferred_seat   50000 non-null  int64  \n",
      " 11  wants_in_flight_meals  50000 non-null  int64  \n",
      " 12  flight_duration        50000 non-null  float64\n",
      " 13  booking_complete       50000 non-null  int64  \n",
      "dtypes: float64(1), int64(8), object(5)\n",
      "memory usage: 5.3+ MB\n"
     ]
    }
   ],
   "source": [
    "df.info()"
   ]
  },
  {
   "cell_type": "markdown",
   "metadata": {},
   "source": [
    "The `.info()` method gives us a data description, telling us the names of the columns, their data types and how many null values we have. Fortunately, we have no null values. It looks like some of these columns should be converted into different data types, e.g. flight_day.\n",
    "\n",
    "To provide more context, below is a more detailed data description, explaining exactly what each column means:\n",
    "\n",
    "- `num_passengers` = number of passengers travelling\n",
    "- `sales_channel` = sales channel booking was made on\n",
    "- `trip_type` = trip Type (Round Trip, One Way, Circle Trip)\n",
    "- `purchase_lead` = number of days between travel date and booking date\n",
    "- `length_of_stay` = number of days spent at destination\n",
    "- `flight_hour` = hour of flight departure\n",
    "- `flight_day` = day of week of flight departure\n",
    "- `route` = origin -> destination flight route\n",
    "- `booking_origin` = country from where booking was made\n",
    "- `wants_extra_baggage` = if the customer wanted extra baggage in the booking\n",
    "- `wants_preferred_seat` = if the customer wanted a preferred seat in the booking\n",
    "- `wants_in_flight_meals` = if the customer wanted in-flight meals in the booking\n",
    "- `flight_duration` = total duration of flight (in hours)\n",
    "- `booking_complete` = flag indicating if the customer completed the booking\n",
    "\n",
    "Before we compute any statistics on the data, lets do any necessary data conversion"
   ]
  },
  {
   "cell_type": "markdown",
   "metadata": {},
   "source": [
    "### Data Formatting"
   ]
  },
  {
   "cell_type": "markdown",
   "metadata": {
    "jp-MarkdownHeadingCollapsed": true,
    "tags": []
   },
   "source": [
    "#### Flight Days"
   ]
  },
  {
   "cell_type": "code",
   "execution_count": 79,
   "metadata": {},
   "outputs": [
    {
     "data": {
      "text/plain": [
       "array(['Sat', 'Wed', 'Thu', 'Mon', 'Sun', 'Tue', 'Fri'], dtype=object)"
      ]
     },
     "execution_count": 79,
     "metadata": {},
     "output_type": "execute_result"
    }
   ],
   "source": [
    "df[\"flight_day\"].unique()"
   ]
  },
  {
   "cell_type": "code",
   "execution_count": 80,
   "metadata": {},
   "outputs": [],
   "source": [
    "mapping = {\n",
    "    \"Mon\": 1,\n",
    "    \"Tue\": 2,\n",
    "    \"Wed\": 3,\n",
    "    \"Thu\": 4,\n",
    "    \"Fri\": 5,\n",
    "    \"Sat\": 6,\n",
    "    \"Sun\": 7,\n",
    "}\n",
    "\n",
    "df[\"flight_day\"] = df[\"flight_day\"].map(mapping)"
   ]
  },
  {
   "cell_type": "code",
   "execution_count": 81,
   "metadata": {},
   "outputs": [
    {
     "data": {
      "text/plain": [
       "array([6, 3, 4, 1, 7, 2, 5])"
      ]
     },
     "execution_count": 81,
     "metadata": {},
     "output_type": "execute_result"
    }
   ],
   "source": [
    "df[\"flight_day\"].unique()"
   ]
  },
  {
   "cell_type": "markdown",
   "metadata": {
    "jp-MarkdownHeadingCollapsed": true,
    "tags": []
   },
   "source": [
    "#### Sales Channel"
   ]
  },
  {
   "cell_type": "code",
   "execution_count": 100,
   "metadata": {},
   "outputs": [],
   "source": [
    "mapping = {\n",
    "    \"Internet\": 1,\n",
    "    \"Mobile\": 2,\n",
    "}\n",
    "\n",
    "df[\"sales_channel\"] = df[\"sales_channel\"].map(mapping)"
   ]
  },
  {
   "cell_type": "code",
   "execution_count": 101,
   "metadata": {},
   "outputs": [
    {
     "data": {
      "text/plain": [
       "array([1, 2])"
      ]
     },
     "execution_count": 101,
     "metadata": {},
     "output_type": "execute_result"
    }
   ],
   "source": [
    "df[\"sales_channel\"].unique()"
   ]
  },
  {
   "cell_type": "markdown",
   "metadata": {
    "tags": []
   },
   "source": [
    "#### trip_type"
   ]
  },
  {
   "cell_type": "code",
   "execution_count": 118,
   "metadata": {},
   "outputs": [
    {
     "data": {
      "text/plain": [
       "array(['RoundTrip', 'CircleTrip', 'OneWay'], dtype=object)"
      ]
     },
     "execution_count": 118,
     "metadata": {},
     "output_type": "execute_result"
    }
   ],
   "source": [
    "df[\"trip_type\"].unique()"
   ]
  },
  {
   "cell_type": "code",
   "execution_count": 119,
   "metadata": {},
   "outputs": [],
   "source": [
    "mapping = {\n",
    "    \"RoundTrip\": 1,\n",
    "    \"CircleTrip\": 2,\n",
    "    \"OneWay\": 3,\n",
    "}\n",
    "\n",
    "df[\"trip_type\"] = df[\"trip_type\"].map(mapping)"
   ]
  },
  {
   "cell_type": "code",
   "execution_count": 120,
   "metadata": {},
   "outputs": [
    {
     "data": {
      "text/plain": [
       "array([1, 2, 3])"
      ]
     },
     "execution_count": 120,
     "metadata": {},
     "output_type": "execute_result"
    }
   ],
   "source": [
    "df[\"trip_type\"].unique()"
   ]
  },
  {
   "cell_type": "markdown",
   "metadata": {
    "jp-MarkdownHeadingCollapsed": true,
    "tags": []
   },
   "source": [
    "### Describing Data Stats"
   ]
  },
  {
   "cell_type": "code",
   "execution_count": 106,
   "metadata": {},
   "outputs": [
    {
     "data": {
      "text/html": [
       "<div>\n",
       "<style scoped>\n",
       "    .dataframe tbody tr th:only-of-type {\n",
       "        vertical-align: middle;\n",
       "    }\n",
       "\n",
       "    .dataframe tbody tr th {\n",
       "        vertical-align: top;\n",
       "    }\n",
       "\n",
       "    .dataframe thead th {\n",
       "        text-align: right;\n",
       "    }\n",
       "</style>\n",
       "<table border=\"1\" class=\"dataframe\">\n",
       "  <thead>\n",
       "    <tr style=\"text-align: right;\">\n",
       "      <th></th>\n",
       "      <th>num_passengers</th>\n",
       "      <th>sales_channel</th>\n",
       "      <th>purchase_lead</th>\n",
       "      <th>length_of_stay</th>\n",
       "      <th>flight_hour</th>\n",
       "      <th>flight_day</th>\n",
       "      <th>wants_extra_baggage</th>\n",
       "      <th>wants_preferred_seat</th>\n",
       "      <th>wants_in_flight_meals</th>\n",
       "      <th>flight_duration</th>\n",
       "      <th>booking_complete</th>\n",
       "    </tr>\n",
       "  </thead>\n",
       "  <tbody>\n",
       "    <tr>\n",
       "      <th>count</th>\n",
       "      <td>49281.000000</td>\n",
       "      <td>49281.000000</td>\n",
       "      <td>49281.000000</td>\n",
       "      <td>49281.000000</td>\n",
       "      <td>49281.000000</td>\n",
       "      <td>49281.000000</td>\n",
       "      <td>49281.000000</td>\n",
       "      <td>49281.000000</td>\n",
       "      <td>49281.000000</td>\n",
       "      <td>49281.000000</td>\n",
       "      <td>49281.000000</td>\n",
       "    </tr>\n",
       "    <tr>\n",
       "      <th>mean</th>\n",
       "      <td>1.590187</td>\n",
       "      <td>1.108845</td>\n",
       "      <td>84.723281</td>\n",
       "      <td>23.053976</td>\n",
       "      <td>9.070676</td>\n",
       "      <td>3.813620</td>\n",
       "      <td>0.668229</td>\n",
       "      <td>0.295631</td>\n",
       "      <td>0.426635</td>\n",
       "      <td>7.279974</td>\n",
       "      <td>0.149977</td>\n",
       "    </tr>\n",
       "    <tr>\n",
       "      <th>std</th>\n",
       "      <td>1.016538</td>\n",
       "      <td>0.311448</td>\n",
       "      <td>90.410229</td>\n",
       "      <td>33.832149</td>\n",
       "      <td>5.413099</td>\n",
       "      <td>1.991913</td>\n",
       "      <td>0.470854</td>\n",
       "      <td>0.456331</td>\n",
       "      <td>0.494593</td>\n",
       "      <td>1.496390</td>\n",
       "      <td>0.357052</td>\n",
       "    </tr>\n",
       "    <tr>\n",
       "      <th>min</th>\n",
       "      <td>1.000000</td>\n",
       "      <td>1.000000</td>\n",
       "      <td>0.000000</td>\n",
       "      <td>0.000000</td>\n",
       "      <td>0.000000</td>\n",
       "      <td>1.000000</td>\n",
       "      <td>0.000000</td>\n",
       "      <td>0.000000</td>\n",
       "      <td>0.000000</td>\n",
       "      <td>4.670000</td>\n",
       "      <td>0.000000</td>\n",
       "    </tr>\n",
       "    <tr>\n",
       "      <th>25%</th>\n",
       "      <td>1.000000</td>\n",
       "      <td>1.000000</td>\n",
       "      <td>21.000000</td>\n",
       "      <td>5.000000</td>\n",
       "      <td>5.000000</td>\n",
       "      <td>2.000000</td>\n",
       "      <td>0.000000</td>\n",
       "      <td>0.000000</td>\n",
       "      <td>0.000000</td>\n",
       "      <td>5.620000</td>\n",
       "      <td>0.000000</td>\n",
       "    </tr>\n",
       "    <tr>\n",
       "      <th>50%</th>\n",
       "      <td>1.000000</td>\n",
       "      <td>1.000000</td>\n",
       "      <td>51.000000</td>\n",
       "      <td>17.000000</td>\n",
       "      <td>9.000000</td>\n",
       "      <td>4.000000</td>\n",
       "      <td>1.000000</td>\n",
       "      <td>0.000000</td>\n",
       "      <td>0.000000</td>\n",
       "      <td>7.570000</td>\n",
       "      <td>0.000000</td>\n",
       "    </tr>\n",
       "    <tr>\n",
       "      <th>75%</th>\n",
       "      <td>2.000000</td>\n",
       "      <td>1.000000</td>\n",
       "      <td>115.000000</td>\n",
       "      <td>28.000000</td>\n",
       "      <td>13.000000</td>\n",
       "      <td>5.000000</td>\n",
       "      <td>1.000000</td>\n",
       "      <td>1.000000</td>\n",
       "      <td>1.000000</td>\n",
       "      <td>8.830000</td>\n",
       "      <td>0.000000</td>\n",
       "    </tr>\n",
       "    <tr>\n",
       "      <th>max</th>\n",
       "      <td>9.000000</td>\n",
       "      <td>2.000000</td>\n",
       "      <td>867.000000</td>\n",
       "      <td>778.000000</td>\n",
       "      <td>23.000000</td>\n",
       "      <td>7.000000</td>\n",
       "      <td>1.000000</td>\n",
       "      <td>1.000000</td>\n",
       "      <td>1.000000</td>\n",
       "      <td>9.500000</td>\n",
       "      <td>1.000000</td>\n",
       "    </tr>\n",
       "  </tbody>\n",
       "</table>\n",
       "</div>"
      ],
      "text/plain": [
       "       num_passengers  sales_channel  purchase_lead  length_of_stay  \\\n",
       "count    49281.000000   49281.000000   49281.000000    49281.000000   \n",
       "mean         1.590187       1.108845      84.723281       23.053976   \n",
       "std          1.016538       0.311448      90.410229       33.832149   \n",
       "min          1.000000       1.000000       0.000000        0.000000   \n",
       "25%          1.000000       1.000000      21.000000        5.000000   \n",
       "50%          1.000000       1.000000      51.000000       17.000000   \n",
       "75%          2.000000       1.000000     115.000000       28.000000   \n",
       "max          9.000000       2.000000     867.000000      778.000000   \n",
       "\n",
       "        flight_hour    flight_day  wants_extra_baggage  wants_preferred_seat  \\\n",
       "count  49281.000000  49281.000000         49281.000000          49281.000000   \n",
       "mean       9.070676      3.813620             0.668229              0.295631   \n",
       "std        5.413099      1.991913             0.470854              0.456331   \n",
       "min        0.000000      1.000000             0.000000              0.000000   \n",
       "25%        5.000000      2.000000             0.000000              0.000000   \n",
       "50%        9.000000      4.000000             1.000000              0.000000   \n",
       "75%       13.000000      5.000000             1.000000              1.000000   \n",
       "max       23.000000      7.000000             1.000000              1.000000   \n",
       "\n",
       "       wants_in_flight_meals  flight_duration  booking_complete  \n",
       "count           49281.000000     49281.000000      49281.000000  \n",
       "mean                0.426635         7.279974          0.149977  \n",
       "std                 0.494593         1.496390          0.357052  \n",
       "min                 0.000000         4.670000          0.000000  \n",
       "25%                 0.000000         5.620000          0.000000  \n",
       "50%                 0.000000         7.570000          0.000000  \n",
       "75%                 1.000000         8.830000          0.000000  \n",
       "max                 1.000000         9.500000          1.000000  "
      ]
     },
     "execution_count": 106,
     "metadata": {},
     "output_type": "execute_result"
    }
   ],
   "source": [
    "df.describe()"
   ]
  },
  {
   "cell_type": "markdown",
   "metadata": {},
   "source": [
    "The `.describe()` method gives us a summary of descriptive statistics over the entire dataset (only works for numeric columns). This gives us a quick overview of a few things such as the mean, min, max and overall distribution of each column.\n",
    "\n",
    "From this point, you should continue exploring the dataset with some visualisations and other metrics that you think may be useful. Then, you should prepare your dataset for predictive modelling. Finally, you should train your machine learning model, evaluate it with performance metrics and output visualisations for the contributing variables. All of this analysis should be summarised in your single slide."
   ]
  },
  {
   "cell_type": "code",
   "execution_count": null,
   "metadata": {},
   "outputs": [],
   "source": []
  },
  {
   "cell_type": "markdown",
   "metadata": {
    "jp-MarkdownHeadingCollapsed": true,
    "tags": []
   },
   "source": [
    "### Removing Duplicates"
   ]
  },
  {
   "cell_type": "code",
   "execution_count": 102,
   "metadata": {
    "tags": []
   },
   "outputs": [],
   "source": [
    "# Remove duplicate rows\n",
    "df.drop_duplicates(inplace=True)"
   ]
  },
  {
   "cell_type": "markdown",
   "metadata": {
    "tags": []
   },
   "source": [
    "### Visualizing Data - Univariate Analysis"
   ]
  },
  {
   "cell_type": "code",
   "execution_count": 107,
   "metadata": {},
   "outputs": [],
   "source": [
    "%matplotlib inline\n",
    "import pandas as pd\n",
    "import matplotlib.pyplot as plt"
   ]
  },
  {
   "cell_type": "markdown",
   "metadata": {
    "jp-MarkdownHeadingCollapsed": true,
    "tags": []
   },
   "source": [
    "#### Most Prefered Sales Channel"
   ]
  },
  {
   "cell_type": "code",
   "execution_count": 114,
   "metadata": {},
   "outputs": [
    {
     "data": {
      "image/png": "[encoded data removed]",
      "text/plain": [
       "<Figure size 432x288 with 1 Axes>"
      ]
     },
     "metadata": {
      "needs_background": "light"
     },
     "output_type": "display_data"
    }
   ],
   "source": [
    "plt.hist(df[\"sales_channel\"], bins=3)\n",
    "plt.title('Histogram of sales_channel and No. of bookings')\n",
    "plt.xticks([1.0, 2.0], ['Internet', 'Mobile'])\n",
    "plt.xlabel('sales_channel')\n",
    "plt.ylabel('bookings')\n",
    "\n",
    "plt.show()"
   ]
  },
  {
   "cell_type": "markdown",
   "metadata": {},
   "source": [
    "##### Result"
   ]
  },
  {
   "cell_type": "markdown",
   "metadata": {},
   "source": [
    "By far, the most preferred way of bookings is via Internet as compared to mobile. "
   ]
  },
  {
   "cell_type": "markdown",
   "metadata": {},
   "source": [
    "##### Recommendation"
   ]
  },
  {
   "cell_type": "markdown",
   "metadata": {},
   "source": [
    "British Airways, should invest in web ads as compared to mobile ads."
   ]
  },
  {
   "cell_type": "markdown",
   "metadata": {
    "jp-MarkdownHeadingCollapsed": true,
    "tags": []
   },
   "source": [
    "#### Most Prefered Days for Booking Tickets"
   ]
  },
  {
   "cell_type": "code",
   "execution_count": 117,
   "metadata": {},
   "outputs": [
    {
     "data": {
      "image/png": "[encoded data removed]",
      "text/plain": [
       "<Figure size 432x288 with 1 Axes>"
      ]
     },
     "metadata": {
      "needs_background": "light"
     },
     "output_type": "display_data"
    }
   ],
   "source": [
    "plt.hist(df[\"flight_day\"], bins=14)\n",
    "plt.title('Histogram of flight_day and No. of bookings')\n",
    "plt.xticks([1.0, 2.0, 3.0, 4.0, 5.0, 6.0, 7.0], ['Mon', 'Tue', 'Wed', 'Thurs', 'Fri', 'Sat', 'Sun'])\n",
    "plt.xlabel('flight_day')\n",
    "plt.ylabel('bookings')\n",
    "\n",
    "plt.show()"
   ]
  },
  {
   "cell_type": "markdown",
   "metadata": {},
   "source": [
    "##### Result"
   ]
  },
  {
   "cell_type": "markdown",
   "metadata": {},
   "source": [
    "It can be seen clearly that people prefer to book flights at the beginning of the week as compared to weekends."
   ]
  },
  {
   "cell_type": "markdown",
   "metadata": {},
   "source": [
    "##### Recommendation"
   ]
  },
  {
   "cell_type": "markdown",
   "metadata": {},
   "source": [
    "British Airways should run web ads on the first 4 days of the work week starting from Monday till Thursday for most expected conversions."
   ]
  },
  {
   "cell_type": "markdown",
   "metadata": {},
   "source": [
    "#### Most Prefered Trip Type"
   ]
  },
  {
   "cell_type": "code",
   "execution_count": 121,
   "metadata": {},
   "outputs": [
    {
     "data": {
      "image/png": "[encoded data removed]",
      "text/plain": [
       "<Figure size 432x288 with 1 Axes>"
      ]
     },
     "metadata": {
      "needs_background": "light"
     },
     "output_type": "display_data"
    }
   ],
   "source": [
    "plt.hist(df[\"trip_type\"], bins=6)\n",
    "plt.title('Histogram of trip_type and No. of bookings')\n",
    "plt.xticks([1.0, 2.0, 3.0], ['RoundTrip', 'CircleTrip', 'OneWay'])\n",
    "plt.xlabel('trip_type')\n",
    "plt.ylabel('bookings')\n",
    "\n",
    "plt.show()"
   ]
  },
  {
   "cell_type": "markdown",
   "metadata": {},
   "source": [
    "##### Result"
   ]
  },
  {
   "cell_type": "markdown",
   "metadata": {},
   "source": [
    "By far, the most preferred trip booked is `Round Trip` among the three options."
   ]
  },
  {
   "cell_type": "markdown",
   "metadata": {},
   "source": [
    "##### Recommendation"
   ]
  },
  {
   "cell_type": "markdown",
   "metadata": {},
   "source": [
    "British Airways should focus on better perks design for Round Trip customers as compared to other two options."
   ]
  },
  {
   "cell_type": "markdown",
   "metadata": {},
   "source": [
    "#### Top 5 Booking Countries"
   ]
  },
  {
   "cell_type": "code",
   "execution_count": 127,
   "metadata": {},
   "outputs": [
    {
     "data": {
      "image/png": "[encoded data removed]",
      "text/plain": [
       "<Figure size 432x288 with 1 Axes>"
      ]
     },
     "metadata": {
      "needs_background": "light"
     },
     "output_type": "display_data"
    }
   ],
   "source": [
    "import seaborn as sns\n",
    "\n",
    "counts = pd.Series(df[\"booking_origin\"]).value_counts()\n",
    "\n",
    "top_5_countries = counts.head(5)\n",
    "\n",
    "plt.bar(top_5_countries.index, top_5_countries.values)\n",
    "\n",
    "# Set the X-axis label and title\n",
    "plt.xlabel('Countries')\n",
    "plt.ylabel('Bookings')\n",
    "plt.title('Histogram of Countries')\n",
    "\n",
    "# Show the plot\n",
    "plt.show()"
   ]
  },
  {
   "cell_type": "markdown",
   "metadata": {},
   "source": [
    "##### Result"
   ]
  },
  {
   "cell_type": "markdown",
   "metadata": {},
   "source": [
    "So far, these are top 5 countries from where the bookings are originating:\n",
    "\n",
    "1. Australia\n",
    "2. Malaysia\n",
    "3. South Korea\n",
    "4. Japan\n",
    "5. China"
   ]
  },
  {
   "cell_type": "markdown",
   "metadata": {},
   "source": [
    "##### Recommendation"
   ]
  },
  {
   "cell_type": "markdown",
   "metadata": {},
   "source": [
    "British Airways should focus their ad campaigns targeting these 5 countries as from there the most of their customer base resides."
   ]
  },
  {
   "cell_type": "markdown",
   "metadata": {},
   "source": [
    "### Binary Classification"
   ]
  },
  {
   "cell_type": "markdown",
   "metadata": {},
   "source": [
    "We are going to use Python based AutoML framework, `PyCaret` to make a binary classifier that will classify whether based on given inputs, the customer will complete a booking or not."
   ]
  },
  {
   "cell_type": "code",
   "execution_count": 138,
   "metadata": {},
   "outputs": [],
   "source": [
    "# dropping unwanted columns\n",
    "df.drop([\"num_passengers\", \"length_of_stay\",\"route\",\"booking_origin\"],axis=1,inplace=True)"
   ]
  },
  {
   "cell_type": "code",
   "execution_count": 139,
   "metadata": {},
   "outputs": [
    {
     "data": {
      "text/html": [
       "<style type=\"text/css\">\n",
       "#T_63c43_row44_col1 {\n",
       "  background-color: lightgreen;\n",
       "}\n",
       "</style>\n",
       "<table id=\"T_63c43_\">\n",
       "  <thead>\n",
       "    <tr>\n",
       "      <th class=\"blank level0\" >&nbsp;</th>\n",
       "      <th class=\"col_heading level0 col0\" >Description</th>\n",
       "      <th class=\"col_heading level0 col1\" >Value</th>\n",
       "    </tr>\n",
       "  </thead>\n",
       "  <tbody>\n",
       "    <tr>\n",
       "      <th id=\"T_63c43_level0_row0\" class=\"row_heading level0 row0\" >0</th>\n",
       "      <td id=\"T_63c43_row0_col0\" class=\"data row0 col0\" >session_id</td>\n",
       "      <td id=\"T_63c43_row0_col1\" class=\"data row0 col1\" >123</td>\n",
       "    </tr>\n",
       "    <tr>\n",
       "      <th id=\"T_63c43_level0_row1\" class=\"row_heading level0 row1\" >1</th>\n",
       "      <td id=\"T_63c43_row1_col0\" class=\"data row1 col0\" >Target</td>\n",
       "      <td id=\"T_63c43_row1_col1\" class=\"data row1 col1\" >booking_complete</td>\n",
       "    </tr>\n",
       "    <tr>\n",
       "      <th id=\"T_63c43_level0_row2\" class=\"row_heading level0 row2\" >2</th>\n",
       "      <td id=\"T_63c43_row2_col0\" class=\"data row2 col0\" >Target Type</td>\n",
       "      <td id=\"T_63c43_row2_col1\" class=\"data row2 col1\" >Binary</td>\n",
       "    </tr>\n",
       "    <tr>\n",
       "      <th id=\"T_63c43_level0_row3\" class=\"row_heading level0 row3\" >3</th>\n",
       "      <td id=\"T_63c43_row3_col0\" class=\"data row3 col0\" >Label Encoded</td>\n",
       "      <td id=\"T_63c43_row3_col1\" class=\"data row3 col1\" >None</td>\n",
       "    </tr>\n",
       "    <tr>\n",
       "      <th id=\"T_63c43_level0_row4\" class=\"row_heading level0 row4\" >4</th>\n",
       "      <td id=\"T_63c43_row4_col0\" class=\"data row4 col0\" >Original Data</td>\n",
       "      <td id=\"T_63c43_row4_col1\" class=\"data row4 col1\" >(49281, 10)</td>\n",
       "    </tr>\n",
       "    <tr>\n",
       "      <th id=\"T_63c43_level0_row5\" class=\"row_heading level0 row5\" >5</th>\n",
       "      <td id=\"T_63c43_row5_col0\" class=\"data row5 col0\" >Missing Values</td>\n",
       "      <td id=\"T_63c43_row5_col1\" class=\"data row5 col1\" >False</td>\n",
       "    </tr>\n",
       "    <tr>\n",
       "      <th id=\"T_63c43_level0_row6\" class=\"row_heading level0 row6\" >6</th>\n",
       "      <td id=\"T_63c43_row6_col0\" class=\"data row6 col0\" >Numeric Features</td>\n",
       "      <td id=\"T_63c43_row6_col1\" class=\"data row6 col1\" >3</td>\n",
       "    </tr>\n",
       "    <tr>\n",
       "      <th id=\"T_63c43_level0_row7\" class=\"row_heading level0 row7\" >7</th>\n",
       "      <td id=\"T_63c43_row7_col0\" class=\"data row7 col0\" >Categorical Features</td>\n",
       "      <td id=\"T_63c43_row7_col1\" class=\"data row7 col1\" >6</td>\n",
       "    </tr>\n",
       "    <tr>\n",
       "      <th id=\"T_63c43_level0_row8\" class=\"row_heading level0 row8\" >8</th>\n",
       "      <td id=\"T_63c43_row8_col0\" class=\"data row8 col0\" >Ordinal Features</td>\n",
       "      <td id=\"T_63c43_row8_col1\" class=\"data row8 col1\" >False</td>\n",
       "    </tr>\n",
       "    <tr>\n",
       "      <th id=\"T_63c43_level0_row9\" class=\"row_heading level0 row9\" >9</th>\n",
       "      <td id=\"T_63c43_row9_col0\" class=\"data row9 col0\" >High Cardinality Features</td>\n",
       "      <td id=\"T_63c43_row9_col1\" class=\"data row9 col1\" >False</td>\n",
       "    </tr>\n",
       "    <tr>\n",
       "      <th id=\"T_63c43_level0_row10\" class=\"row_heading level0 row10\" >10</th>\n",
       "      <td id=\"T_63c43_row10_col0\" class=\"data row10 col0\" >High Cardinality Method</td>\n",
       "      <td id=\"T_63c43_row10_col1\" class=\"data row10 col1\" >None</td>\n",
       "    </tr>\n",
       "    <tr>\n",
       "      <th id=\"T_63c43_level0_row11\" class=\"row_heading level0 row11\" >11</th>\n",
       "      <td id=\"T_63c43_row11_col0\" class=\"data row11 col0\" >Transformed Train Set</td>\n",
       "      <td id=\"T_63c43_row11_col1\" class=\"data row11 col1\" >(34496, 17)</td>\n",
       "    </tr>\n",
       "    <tr>\n",
       "      <th id=\"T_63c43_level0_row12\" class=\"row_heading level0 row12\" >12</th>\n",
       "      <td id=\"T_63c43_row12_col0\" class=\"data row12 col0\" >Transformed Test Set</td>\n",
       "      <td id=\"T_63c43_row12_col1\" class=\"data row12 col1\" >(14785, 17)</td>\n",
       "    </tr>\n",
       "    <tr>\n",
       "      <th id=\"T_63c43_level0_row13\" class=\"row_heading level0 row13\" >13</th>\n",
       "      <td id=\"T_63c43_row13_col0\" class=\"data row13 col0\" >Shuffle Train-Test</td>\n",
       "      <td id=\"T_63c43_row13_col1\" class=\"data row13 col1\" >True</td>\n",
       "    </tr>\n",
       "    <tr>\n",
       "      <th id=\"T_63c43_level0_row14\" class=\"row_heading level0 row14\" >14</th>\n",
       "      <td id=\"T_63c43_row14_col0\" class=\"data row14 col0\" >Stratify Train-Test</td>\n",
       "      <td id=\"T_63c43_row14_col1\" class=\"data row14 col1\" >False</td>\n",
       "    </tr>\n",
       "    <tr>\n",
       "      <th id=\"T_63c43_level0_row15\" class=\"row_heading level0 row15\" >15</th>\n",
       "      <td id=\"T_63c43_row15_col0\" class=\"data row15 col0\" >Fold Generator</td>\n",
       "      <td id=\"T_63c43_row15_col1\" class=\"data row15 col1\" >StratifiedKFold</td>\n",
       "    </tr>\n",
       "    <tr>\n",
       "      <th id=\"T_63c43_level0_row16\" class=\"row_heading level0 row16\" >16</th>\n",
       "      <td id=\"T_63c43_row16_col0\" class=\"data row16 col0\" >Fold Number</td>\n",
       "      <td id=\"T_63c43_row16_col1\" class=\"data row16 col1\" >10</td>\n",
       "    </tr>\n",
       "    <tr>\n",
       "      <th id=\"T_63c43_level0_row17\" class=\"row_heading level0 row17\" >17</th>\n",
       "      <td id=\"T_63c43_row17_col0\" class=\"data row17 col0\" >CPU Jobs</td>\n",
       "      <td id=\"T_63c43_row17_col1\" class=\"data row17 col1\" >-1</td>\n",
       "    </tr>\n",
       "    <tr>\n",
       "      <th id=\"T_63c43_level0_row18\" class=\"row_heading level0 row18\" >18</th>\n",
       "      <td id=\"T_63c43_row18_col0\" class=\"data row18 col0\" >Use GPU</td>\n",
       "      <td id=\"T_63c43_row18_col1\" class=\"data row18 col1\" >False</td>\n",
       "    </tr>\n",
       "    <tr>\n",
       "      <th id=\"T_63c43_level0_row19\" class=\"row_heading level0 row19\" >19</th>\n",
       "      <td id=\"T_63c43_row19_col0\" class=\"data row19 col0\" >Log Experiment</td>\n",
       "      <td id=\"T_63c43_row19_col1\" class=\"data row19 col1\" >False</td>\n",
       "    </tr>\n",
       "    <tr>\n",
       "      <th id=\"T_63c43_level0_row20\" class=\"row_heading level0 row20\" >20</th>\n",
       "      <td id=\"T_63c43_row20_col0\" class=\"data row20 col0\" >Experiment Name</td>\n",
       "      <td id=\"T_63c43_row20_col1\" class=\"data row20 col1\" >clf-default-name</td>\n",
       "    </tr>\n",
       "    <tr>\n",
       "      <th id=\"T_63c43_level0_row21\" class=\"row_heading level0 row21\" >21</th>\n",
       "      <td id=\"T_63c43_row21_col0\" class=\"data row21 col0\" >USI</td>\n",
       "      <td id=\"T_63c43_row21_col1\" class=\"data row21 col1\" >b38c</td>\n",
       "    </tr>\n",
       "    <tr>\n",
       "      <th id=\"T_63c43_level0_row22\" class=\"row_heading level0 row22\" >22</th>\n",
       "      <td id=\"T_63c43_row22_col0\" class=\"data row22 col0\" >Imputation Type</td>\n",
       "      <td id=\"T_63c43_row22_col1\" class=\"data row22 col1\" >simple</td>\n",
       "    </tr>\n",
       "    <tr>\n",
       "      <th id=\"T_63c43_level0_row23\" class=\"row_heading level0 row23\" >23</th>\n",
       "      <td id=\"T_63c43_row23_col0\" class=\"data row23 col0\" >Iterative Imputation Iteration</td>\n",
       "      <td id=\"T_63c43_row23_col1\" class=\"data row23 col1\" >None</td>\n",
       "    </tr>\n",
       "    <tr>\n",
       "      <th id=\"T_63c43_level0_row24\" class=\"row_heading level0 row24\" >24</th>\n",
       "      <td id=\"T_63c43_row24_col0\" class=\"data row24 col0\" >Numeric Imputer</td>\n",
       "      <td id=\"T_63c43_row24_col1\" class=\"data row24 col1\" >mean</td>\n",
       "    </tr>\n",
       "    <tr>\n",
       "      <th id=\"T_63c43_level0_row25\" class=\"row_heading level0 row25\" >25</th>\n",
       "      <td id=\"T_63c43_row25_col0\" class=\"data row25 col0\" >Iterative Imputation Numeric Model</td>\n",
       "      <td id=\"T_63c43_row25_col1\" class=\"data row25 col1\" >None</td>\n",
       "    </tr>\n",
       "    <tr>\n",
       "      <th id=\"T_63c43_level0_row26\" class=\"row_heading level0 row26\" >26</th>\n",
       "      <td id=\"T_63c43_row26_col0\" class=\"data row26 col0\" >Categorical Imputer</td>\n",
       "      <td id=\"T_63c43_row26_col1\" class=\"data row26 col1\" >constant</td>\n",
       "    </tr>\n",
       "    <tr>\n",
       "      <th id=\"T_63c43_level0_row27\" class=\"row_heading level0 row27\" >27</th>\n",
       "      <td id=\"T_63c43_row27_col0\" class=\"data row27 col0\" >Iterative Imputation Categorical Model</td>\n",
       "      <td id=\"T_63c43_row27_col1\" class=\"data row27 col1\" >None</td>\n",
       "    </tr>\n",
       "    <tr>\n",
       "      <th id=\"T_63c43_level0_row28\" class=\"row_heading level0 row28\" >28</th>\n",
       "      <td id=\"T_63c43_row28_col0\" class=\"data row28 col0\" >Unknown Categoricals Handling</td>\n",
       "      <td id=\"T_63c43_row28_col1\" class=\"data row28 col1\" >least_frequent</td>\n",
       "    </tr>\n",
       "    <tr>\n",
       "      <th id=\"T_63c43_level0_row29\" class=\"row_heading level0 row29\" >29</th>\n",
       "      <td id=\"T_63c43_row29_col0\" class=\"data row29 col0\" >Normalize</td>\n",
       "      <td id=\"T_63c43_row29_col1\" class=\"data row29 col1\" >False</td>\n",
       "    </tr>\n",
       "    <tr>\n",
       "      <th id=\"T_63c43_level0_row30\" class=\"row_heading level0 row30\" >30</th>\n",
       "      <td id=\"T_63c43_row30_col0\" class=\"data row30 col0\" >Normalize Method</td>\n",
       "      <td id=\"T_63c43_row30_col1\" class=\"data row30 col1\" >None</td>\n",
       "    </tr>\n",
       "    <tr>\n",
       "      <th id=\"T_63c43_level0_row31\" class=\"row_heading level0 row31\" >31</th>\n",
       "      <td id=\"T_63c43_row31_col0\" class=\"data row31 col0\" >Transformation</td>\n",
       "      <td id=\"T_63c43_row31_col1\" class=\"data row31 col1\" >False</td>\n",
       "    </tr>\n",
       "    <tr>\n",
       "      <th id=\"T_63c43_level0_row32\" class=\"row_heading level0 row32\" >32</th>\n",
       "      <td id=\"T_63c43_row32_col0\" class=\"data row32 col0\" >Transformation Method</td>\n",
       "      <td id=\"T_63c43_row32_col1\" class=\"data row32 col1\" >None</td>\n",
       "    </tr>\n",
       "    <tr>\n",
       "      <th id=\"T_63c43_level0_row33\" class=\"row_heading level0 row33\" >33</th>\n",
       "      <td id=\"T_63c43_row33_col0\" class=\"data row33 col0\" >PCA</td>\n",
       "      <td id=\"T_63c43_row33_col1\" class=\"data row33 col1\" >False</td>\n",
       "    </tr>\n",
       "    <tr>\n",
       "      <th id=\"T_63c43_level0_row34\" class=\"row_heading level0 row34\" >34</th>\n",
       "      <td id=\"T_63c43_row34_col0\" class=\"data row34 col0\" >PCA Method</td>\n",
       "      <td id=\"T_63c43_row34_col1\" class=\"data row34 col1\" >None</td>\n",
       "    </tr>\n",
       "    <tr>\n",
       "      <th id=\"T_63c43_level0_row35\" class=\"row_heading level0 row35\" >35</th>\n",
       "      <td id=\"T_63c43_row35_col0\" class=\"data row35 col0\" >PCA Components</td>\n",
       "      <td id=\"T_63c43_row35_col1\" class=\"data row35 col1\" >None</td>\n",
       "    </tr>\n",
       "    <tr>\n",
       "      <th id=\"T_63c43_level0_row36\" class=\"row_heading level0 row36\" >36</th>\n",
       "      <td id=\"T_63c43_row36_col0\" class=\"data row36 col0\" >Ignore Low Variance</td>\n",
       "      <td id=\"T_63c43_row36_col1\" class=\"data row36 col1\" >False</td>\n",
       "    </tr>\n",
       "    <tr>\n",
       "      <th id=\"T_63c43_level0_row37\" class=\"row_heading level0 row37\" >37</th>\n",
       "      <td id=\"T_63c43_row37_col0\" class=\"data row37 col0\" >Combine Rare Levels</td>\n",
       "      <td id=\"T_63c43_row37_col1\" class=\"data row37 col1\" >False</td>\n",
       "    </tr>\n",
       "    <tr>\n",
       "      <th id=\"T_63c43_level0_row38\" class=\"row_heading level0 row38\" >38</th>\n",
       "      <td id=\"T_63c43_row38_col0\" class=\"data row38 col0\" >Rare Level Threshold</td>\n",
       "      <td id=\"T_63c43_row38_col1\" class=\"data row38 col1\" >None</td>\n",
       "    </tr>\n",
       "    <tr>\n",
       "      <th id=\"T_63c43_level0_row39\" class=\"row_heading level0 row39\" >39</th>\n",
       "      <td id=\"T_63c43_row39_col0\" class=\"data row39 col0\" >Numeric Binning</td>\n",
       "      <td id=\"T_63c43_row39_col1\" class=\"data row39 col1\" >False</td>\n",
       "    </tr>\n",
       "    <tr>\n",
       "      <th id=\"T_63c43_level0_row40\" class=\"row_heading level0 row40\" >40</th>\n",
       "      <td id=\"T_63c43_row40_col0\" class=\"data row40 col0\" >Remove Outliers</td>\n",
       "      <td id=\"T_63c43_row40_col1\" class=\"data row40 col1\" >False</td>\n",
       "    </tr>\n",
       "    <tr>\n",
       "      <th id=\"T_63c43_level0_row41\" class=\"row_heading level0 row41\" >41</th>\n",
       "      <td id=\"T_63c43_row41_col0\" class=\"data row41 col0\" >Outliers Threshold</td>\n",
       "      <td id=\"T_63c43_row41_col1\" class=\"data row41 col1\" >None</td>\n",
       "    </tr>\n",
       "    <tr>\n",
       "      <th id=\"T_63c43_level0_row42\" class=\"row_heading level0 row42\" >42</th>\n",
       "      <td id=\"T_63c43_row42_col0\" class=\"data row42 col0\" >Remove Multicollinearity</td>\n",
       "      <td id=\"T_63c43_row42_col1\" class=\"data row42 col1\" >False</td>\n",
       "    </tr>\n",
       "    <tr>\n",
       "      <th id=\"T_63c43_level0_row43\" class=\"row_heading level0 row43\" >43</th>\n",
       "      <td id=\"T_63c43_row43_col0\" class=\"data row43 col0\" >Multicollinearity Threshold</td>\n",
       "      <td id=\"T_63c43_row43_col1\" class=\"data row43 col1\" >None</td>\n",
       "    </tr>\n",
       "    <tr>\n",
       "      <th id=\"T_63c43_level0_row44\" class=\"row_heading level0 row44\" >44</th>\n",
       "      <td id=\"T_63c43_row44_col0\" class=\"data row44 col0\" >Remove Perfect Collinearity</td>\n",
       "      <td id=\"T_63c43_row44_col1\" class=\"data row44 col1\" >True</td>\n",
       "    </tr>\n",
       "    <tr>\n",
       "      <th id=\"T_63c43_level0_row45\" class=\"row_heading level0 row45\" >45</th>\n",
       "      <td id=\"T_63c43_row45_col0\" class=\"data row45 col0\" >Clustering</td>\n",
       "      <td id=\"T_63c43_row45_col1\" class=\"data row45 col1\" >False</td>\n",
       "    </tr>\n",
       "    <tr>\n",
       "      <th id=\"T_63c43_level0_row46\" class=\"row_heading level0 row46\" >46</th>\n",
       "      <td id=\"T_63c43_row46_col0\" class=\"data row46 col0\" >Clustering Iteration</td>\n",
       "      <td id=\"T_63c43_row46_col1\" class=\"data row46 col1\" >None</td>\n",
       "    </tr>\n",
       "    <tr>\n",
       "      <th id=\"T_63c43_level0_row47\" class=\"row_heading level0 row47\" >47</th>\n",
       "      <td id=\"T_63c43_row47_col0\" class=\"data row47 col0\" >Polynomial Features</td>\n",
       "      <td id=\"T_63c43_row47_col1\" class=\"data row47 col1\" >False</td>\n",
       "    </tr>\n",
       "    <tr>\n",
       "      <th id=\"T_63c43_level0_row48\" class=\"row_heading level0 row48\" >48</th>\n",
       "      <td id=\"T_63c43_row48_col0\" class=\"data row48 col0\" >Polynomial Degree</td>\n",
       "      <td id=\"T_63c43_row48_col1\" class=\"data row48 col1\" >None</td>\n",
       "    </tr>\n",
       "    <tr>\n",
       "      <th id=\"T_63c43_level0_row49\" class=\"row_heading level0 row49\" >49</th>\n",
       "      <td id=\"T_63c43_row49_col0\" class=\"data row49 col0\" >Trignometry Features</td>\n",
       "      <td id=\"T_63c43_row49_col1\" class=\"data row49 col1\" >False</td>\n",
       "    </tr>\n",
       "    <tr>\n",
       "      <th id=\"T_63c43_level0_row50\" class=\"row_heading level0 row50\" >50</th>\n",
       "      <td id=\"T_63c43_row50_col0\" class=\"data row50 col0\" >Polynomial Threshold</td>\n",
       "      <td id=\"T_63c43_row50_col1\" class=\"data row50 col1\" >None</td>\n",
       "    </tr>\n",
       "    <tr>\n",
       "      <th id=\"T_63c43_level0_row51\" class=\"row_heading level0 row51\" >51</th>\n",
       "      <td id=\"T_63c43_row51_col0\" class=\"data row51 col0\" >Group Features</td>\n",
       "      <td id=\"T_63c43_row51_col1\" class=\"data row51 col1\" >False</td>\n",
       "    </tr>\n",
       "    <tr>\n",
       "      <th id=\"T_63c43_level0_row52\" class=\"row_heading level0 row52\" >52</th>\n",
       "      <td id=\"T_63c43_row52_col0\" class=\"data row52 col0\" >Feature Selection</td>\n",
       "      <td id=\"T_63c43_row52_col1\" class=\"data row52 col1\" >False</td>\n",
       "    </tr>\n",
       "    <tr>\n",
       "      <th id=\"T_63c43_level0_row53\" class=\"row_heading level0 row53\" >53</th>\n",
       "      <td id=\"T_63c43_row53_col0\" class=\"data row53 col0\" >Feature Selection Method</td>\n",
       "      <td id=\"T_63c43_row53_col1\" class=\"data row53 col1\" >classic</td>\n",
       "    </tr>\n",
       "    <tr>\n",
       "      <th id=\"T_63c43_level0_row54\" class=\"row_heading level0 row54\" >54</th>\n",
       "      <td id=\"T_63c43_row54_col0\" class=\"data row54 col0\" >Features Selection Threshold</td>\n",
       "      <td id=\"T_63c43_row54_col1\" class=\"data row54 col1\" >None</td>\n",
       "    </tr>\n",
       "    <tr>\n",
       "      <th id=\"T_63c43_level0_row55\" class=\"row_heading level0 row55\" >55</th>\n",
       "      <td id=\"T_63c43_row55_col0\" class=\"data row55 col0\" >Feature Interaction</td>\n",
       "      <td id=\"T_63c43_row55_col1\" class=\"data row55 col1\" >False</td>\n",
       "    </tr>\n",
       "    <tr>\n",
       "      <th id=\"T_63c43_level0_row56\" class=\"row_heading level0 row56\" >56</th>\n",
       "      <td id=\"T_63c43_row56_col0\" class=\"data row56 col0\" >Feature Ratio</td>\n",
       "      <td id=\"T_63c43_row56_col1\" class=\"data row56 col1\" >False</td>\n",
       "    </tr>\n",
       "    <tr>\n",
       "      <th id=\"T_63c43_level0_row57\" class=\"row_heading level0 row57\" >57</th>\n",
       "      <td id=\"T_63c43_row57_col0\" class=\"data row57 col0\" >Interaction Threshold</td>\n",
       "      <td id=\"T_63c43_row57_col1\" class=\"data row57 col1\" >None</td>\n",
       "    </tr>\n",
       "    <tr>\n",
       "      <th id=\"T_63c43_level0_row58\" class=\"row_heading level0 row58\" >58</th>\n",
       "      <td id=\"T_63c43_row58_col0\" class=\"data row58 col0\" >Fix Imbalance</td>\n",
       "      <td id=\"T_63c43_row58_col1\" class=\"data row58 col1\" >False</td>\n",
       "    </tr>\n",
       "    <tr>\n",
       "      <th id=\"T_63c43_level0_row59\" class=\"row_heading level0 row59\" >59</th>\n",
       "      <td id=\"T_63c43_row59_col0\" class=\"data row59 col0\" >Fix Imbalance Method</td>\n",
       "      <td id=\"T_63c43_row59_col1\" class=\"data row59 col1\" >SMOTE</td>\n",
       "    </tr>\n",
       "  </tbody>\n",
       "</table>\n"
      ],
      "text/plain": [
       "<pandas.io.formats.style.Styler object at 0x7fe5a21444c0>"
      ]
     },
     "metadata": {},
     "output_type": "display_data"
    }
   ],
   "source": [
    "# import pycaret classification and init setup\n",
    "from pycaret.classification import *\n",
    "s = setup(df, target = 'booking_complete', session_id = 123)"
   ]
  },
  {
   "cell_type": "code",
   "execution_count": 141,
   "metadata": {},
   "outputs": [
    {
     "data": {
      "text/html": [
       "<style type=\"text/css\">\n",
       "#T_6f6ac_ th {\n",
       "  text-align: left;\n",
       "}\n",
       "#T_6f6ac_row0_col0, #T_6f6ac_row0_col2, #T_6f6ac_row0_col3, #T_6f6ac_row0_col4, #T_6f6ac_row0_col5, #T_6f6ac_row0_col6, #T_6f6ac_row0_col7, #T_6f6ac_row1_col0, #T_6f6ac_row1_col2, #T_6f6ac_row1_col3, #T_6f6ac_row1_col4, #T_6f6ac_row1_col5, #T_6f6ac_row1_col6, #T_6f6ac_row1_col7, #T_6f6ac_row2_col0, #T_6f6ac_row2_col3, #T_6f6ac_row2_col4, #T_6f6ac_row2_col5, #T_6f6ac_row2_col6, #T_6f6ac_row2_col7, #T_6f6ac_row3_col0, #T_6f6ac_row3_col2, #T_6f6ac_row3_col3, #T_6f6ac_row3_col4, #T_6f6ac_row3_col5, #T_6f6ac_row3_col6, #T_6f6ac_row3_col7, #T_6f6ac_row4_col0, #T_6f6ac_row4_col2, #T_6f6ac_row4_col3, #T_6f6ac_row4_col4, #T_6f6ac_row4_col5, #T_6f6ac_row4_col6, #T_6f6ac_row4_col7, #T_6f6ac_row5_col0, #T_6f6ac_row5_col1, #T_6f6ac_row5_col2, #T_6f6ac_row5_col3, #T_6f6ac_row5_col4, #T_6f6ac_row5_col5, #T_6f6ac_row5_col6, #T_6f6ac_row5_col7, #T_6f6ac_row6_col0, #T_6f6ac_row6_col1, #T_6f6ac_row6_col2, #T_6f6ac_row6_col3, #T_6f6ac_row6_col5, #T_6f6ac_row6_col6, #T_6f6ac_row6_col7, #T_6f6ac_row7_col0, #T_6f6ac_row7_col1, #T_6f6ac_row7_col2, #T_6f6ac_row7_col3, #T_6f6ac_row7_col4, #T_6f6ac_row7_col5, #T_6f6ac_row7_col6, #T_6f6ac_row7_col7, #T_6f6ac_row8_col0, #T_6f6ac_row8_col1, #T_6f6ac_row8_col2, #T_6f6ac_row8_col3, #T_6f6ac_row8_col4, #T_6f6ac_row8_col5, #T_6f6ac_row8_col6, #T_6f6ac_row8_col7, #T_6f6ac_row9_col0, #T_6f6ac_row9_col1, #T_6f6ac_row9_col2, #T_6f6ac_row9_col3, #T_6f6ac_row9_col4, #T_6f6ac_row9_col5, #T_6f6ac_row9_col6, #T_6f6ac_row9_col7, #T_6f6ac_row10_col0, #T_6f6ac_row10_col1, #T_6f6ac_row10_col2, #T_6f6ac_row10_col3, #T_6f6ac_row10_col4, #T_6f6ac_row10_col5, #T_6f6ac_row10_col6, #T_6f6ac_row10_col7, #T_6f6ac_row11_col0, #T_6f6ac_row11_col1, #T_6f6ac_row11_col2, #T_6f6ac_row11_col3, #T_6f6ac_row11_col4, #T_6f6ac_row11_col5, #T_6f6ac_row11_col6, #T_6f6ac_row11_col7, #T_6f6ac_row12_col0, #T_6f6ac_row12_col1, #T_6f6ac_row12_col2, #T_6f6ac_row12_col3, #T_6f6ac_row12_col4, #T_6f6ac_row12_col5, #T_6f6ac_row12_col6, #T_6f6ac_row12_col7, #T_6f6ac_row13_col0, #T_6f6ac_row13_col1, #T_6f6ac_row13_col2, #T_6f6ac_row13_col3, #T_6f6ac_row13_col4, #T_6f6ac_row13_col5, #T_6f6ac_row13_col7, #T_6f6ac_row14_col0, #T_6f6ac_row14_col1, #T_6f6ac_row14_col2, #T_6f6ac_row14_col4, #T_6f6ac_row14_col6, #T_6f6ac_row15_col0, #T_6f6ac_row15_col1, #T_6f6ac_row15_col2, #T_6f6ac_row15_col3, #T_6f6ac_row15_col4, #T_6f6ac_row15_col5, #T_6f6ac_row15_col6, #T_6f6ac_row15_col7 {\n",
       "  text-align: left;\n",
       "}\n",
       "#T_6f6ac_row0_col1, #T_6f6ac_row1_col1, #T_6f6ac_row2_col1, #T_6f6ac_row2_col2, #T_6f6ac_row3_col1, #T_6f6ac_row4_col1, #T_6f6ac_row6_col4, #T_6f6ac_row13_col6, #T_6f6ac_row14_col3, #T_6f6ac_row14_col5, #T_6f6ac_row14_col7 {\n",
       "  text-align: left;\n",
       "  background-color: yellow;\n",
       "}\n",
       "#T_6f6ac_row0_col8, #T_6f6ac_row1_col8, #T_6f6ac_row2_col8, #T_6f6ac_row3_col8, #T_6f6ac_row5_col8, #T_6f6ac_row6_col8, #T_6f6ac_row7_col8, #T_6f6ac_row8_col8, #T_6f6ac_row9_col8, #T_6f6ac_row10_col8, #T_6f6ac_row11_col8, #T_6f6ac_row12_col8, #T_6f6ac_row13_col8, #T_6f6ac_row14_col8, #T_6f6ac_row15_col8 {\n",
       "  text-align: left;\n",
       "  background-color: lightgrey;\n",
       "}\n",
       "#T_6f6ac_row4_col8 {\n",
       "  text-align: left;\n",
       "  background-color: yellow;\n",
       "  background-color: lightgrey;\n",
       "}\n",
       "</style>\n",
       "<table id=\"T_6f6ac_\">\n",
       "  <thead>\n",
       "    <tr>\n",
       "      <th class=\"blank level0\" >&nbsp;</th>\n",
       "      <th class=\"col_heading level0 col0\" >Model</th>\n",
       "      <th class=\"col_heading level0 col1\" >Accuracy</th>\n",
       "      <th class=\"col_heading level0 col2\" >AUC</th>\n",
       "      <th class=\"col_heading level0 col3\" >Recall</th>\n",
       "      <th class=\"col_heading level0 col4\" >Prec.</th>\n",
       "      <th class=\"col_heading level0 col5\" >F1</th>\n",
       "      <th class=\"col_heading level0 col6\" >Kappa</th>\n",
       "      <th class=\"col_heading level0 col7\" >MCC</th>\n",
       "      <th class=\"col_heading level0 col8\" >TT (Sec)</th>\n",
       "    </tr>\n",
       "  </thead>\n",
       "  <tbody>\n",
       "    <tr>\n",
       "      <th id=\"T_6f6ac_level0_row0\" class=\"row_heading level0 row0\" >lr</th>\n",
       "      <td id=\"T_6f6ac_row0_col0\" class=\"data row0 col0\" >Logistic Regression</td>\n",
       "      <td id=\"T_6f6ac_row0_col1\" class=\"data row0 col1\" >0.8504</td>\n",
       "      <td id=\"T_6f6ac_row0_col2\" class=\"data row0 col2\" >0.6168</td>\n",
       "      <td id=\"T_6f6ac_row0_col3\" class=\"data row0 col3\" >0.0000</td>\n",
       "      <td id=\"T_6f6ac_row0_col4\" class=\"data row0 col4\" >0.0000</td>\n",
       "      <td id=\"T_6f6ac_row0_col5\" class=\"data row0 col5\" >0.0000</td>\n",
       "      <td id=\"T_6f6ac_row0_col6\" class=\"data row0 col6\" >0.0000</td>\n",
       "      <td id=\"T_6f6ac_row0_col7\" class=\"data row0 col7\" >0.0000</td>\n",
       "      <td id=\"T_6f6ac_row0_col8\" class=\"data row0 col8\" >0.5950</td>\n",
       "    </tr>\n",
       "    <tr>\n",
       "      <th id=\"T_6f6ac_level0_row1\" class=\"row_heading level0 row1\" >ridge</th>\n",
       "      <td id=\"T_6f6ac_row1_col0\" class=\"data row1 col0\" >Ridge Classifier</td>\n",
       "      <td id=\"T_6f6ac_row1_col1\" class=\"data row1 col1\" >0.8504</td>\n",
       "      <td id=\"T_6f6ac_row1_col2\" class=\"data row1 col2\" >0.0000</td>\n",
       "      <td id=\"T_6f6ac_row1_col3\" class=\"data row1 col3\" >0.0000</td>\n",
       "      <td id=\"T_6f6ac_row1_col4\" class=\"data row1 col4\" >0.0000</td>\n",
       "      <td id=\"T_6f6ac_row1_col5\" class=\"data row1 col5\" >0.0000</td>\n",
       "      <td id=\"T_6f6ac_row1_col6\" class=\"data row1 col6\" >0.0000</td>\n",
       "      <td id=\"T_6f6ac_row1_col7\" class=\"data row1 col7\" >0.0000</td>\n",
       "      <td id=\"T_6f6ac_row1_col8\" class=\"data row1 col8\" >0.0310</td>\n",
       "    </tr>\n",
       "    <tr>\n",
       "      <th id=\"T_6f6ac_level0_row2\" class=\"row_heading level0 row2\" >gbc</th>\n",
       "      <td id=\"T_6f6ac_row2_col0\" class=\"data row2 col0\" >Gradient Boosting Classifier</td>\n",
       "      <td id=\"T_6f6ac_row2_col1\" class=\"data row2 col1\" >0.8504</td>\n",
       "      <td id=\"T_6f6ac_row2_col2\" class=\"data row2 col2\" >0.6695</td>\n",
       "      <td id=\"T_6f6ac_row2_col3\" class=\"data row2 col3\" >0.0012</td>\n",
       "      <td id=\"T_6f6ac_row2_col4\" class=\"data row2 col4\" >0.3167</td>\n",
       "      <td id=\"T_6f6ac_row2_col5\" class=\"data row2 col5\" >0.0023</td>\n",
       "      <td id=\"T_6f6ac_row2_col6\" class=\"data row2 col6\" >0.0016</td>\n",
       "      <td id=\"T_6f6ac_row2_col7\" class=\"data row2 col7\" >0.0138</td>\n",
       "      <td id=\"T_6f6ac_row2_col8\" class=\"data row2 col8\" >0.9680</td>\n",
       "    </tr>\n",
       "    <tr>\n",
       "      <th id=\"T_6f6ac_level0_row3\" class=\"row_heading level0 row3\" >lda</th>\n",
       "      <td id=\"T_6f6ac_row3_col0\" class=\"data row3 col0\" >Linear Discriminant Analysis</td>\n",
       "      <td id=\"T_6f6ac_row3_col1\" class=\"data row3 col1\" >0.8504</td>\n",
       "      <td id=\"T_6f6ac_row3_col2\" class=\"data row3 col2\" >0.6170</td>\n",
       "      <td id=\"T_6f6ac_row3_col3\" class=\"data row3 col3\" >0.0000</td>\n",
       "      <td id=\"T_6f6ac_row3_col4\" class=\"data row3 col4\" >0.0000</td>\n",
       "      <td id=\"T_6f6ac_row3_col5\" class=\"data row3 col5\" >0.0000</td>\n",
       "      <td id=\"T_6f6ac_row3_col6\" class=\"data row3 col6\" >0.0000</td>\n",
       "      <td id=\"T_6f6ac_row3_col7\" class=\"data row3 col7\" >0.0000</td>\n",
       "      <td id=\"T_6f6ac_row3_col8\" class=\"data row3 col8\" >0.0620</td>\n",
       "    </tr>\n",
       "    <tr>\n",
       "      <th id=\"T_6f6ac_level0_row4\" class=\"row_heading level0 row4\" >dummy</th>\n",
       "      <td id=\"T_6f6ac_row4_col0\" class=\"data row4 col0\" >Dummy Classifier</td>\n",
       "      <td id=\"T_6f6ac_row4_col1\" class=\"data row4 col1\" >0.8504</td>\n",
       "      <td id=\"T_6f6ac_row4_col2\" class=\"data row4 col2\" >0.5000</td>\n",
       "      <td id=\"T_6f6ac_row4_col3\" class=\"data row4 col3\" >0.0000</td>\n",
       "      <td id=\"T_6f6ac_row4_col4\" class=\"data row4 col4\" >0.0000</td>\n",
       "      <td id=\"T_6f6ac_row4_col5\" class=\"data row4 col5\" >0.0000</td>\n",
       "      <td id=\"T_6f6ac_row4_col6\" class=\"data row4 col6\" >0.0000</td>\n",
       "      <td id=\"T_6f6ac_row4_col7\" class=\"data row4 col7\" >0.0000</td>\n",
       "      <td id=\"T_6f6ac_row4_col8\" class=\"data row4 col8\" >0.0230</td>\n",
       "    </tr>\n",
       "    <tr>\n",
       "      <th id=\"T_6f6ac_level0_row5\" class=\"row_heading level0 row5\" >ada</th>\n",
       "      <td id=\"T_6f6ac_row5_col0\" class=\"data row5 col0\" >Ada Boost Classifier</td>\n",
       "      <td id=\"T_6f6ac_row5_col1\" class=\"data row5 col1\" >0.8503</td>\n",
       "      <td id=\"T_6f6ac_row5_col2\" class=\"data row5 col2\" >0.6625</td>\n",
       "      <td id=\"T_6f6ac_row5_col3\" class=\"data row5 col3\" >0.0000</td>\n",
       "      <td id=\"T_6f6ac_row5_col4\" class=\"data row5 col4\" >0.0000</td>\n",
       "      <td id=\"T_6f6ac_row5_col5\" class=\"data row5 col5\" >0.0000</td>\n",
       "      <td id=\"T_6f6ac_row5_col6\" class=\"data row5 col6\" >-0.0001</td>\n",
       "      <td id=\"T_6f6ac_row5_col7\" class=\"data row5 col7\" >-0.0014</td>\n",
       "      <td id=\"T_6f6ac_row5_col8\" class=\"data row5 col8\" >0.3500</td>\n",
       "    </tr>\n",
       "    <tr>\n",
       "      <th id=\"T_6f6ac_level0_row6\" class=\"row_heading level0 row6\" >lightgbm</th>\n",
       "      <td id=\"T_6f6ac_row6_col0\" class=\"data row6 col0\" >Light Gradient Boosting Machine</td>\n",
       "      <td id=\"T_6f6ac_row6_col1\" class=\"data row6 col1\" >0.8500</td>\n",
       "      <td id=\"T_6f6ac_row6_col2\" class=\"data row6 col2\" >0.6635</td>\n",
       "      <td id=\"T_6f6ac_row6_col3\" class=\"data row6 col3\" >0.0041</td>\n",
       "      <td id=\"T_6f6ac_row6_col4\" class=\"data row6 col4\" >0.3646</td>\n",
       "      <td id=\"T_6f6ac_row6_col5\" class=\"data row6 col5\" >0.0080</td>\n",
       "      <td id=\"T_6f6ac_row6_col6\" class=\"data row6 col6\" >0.0050</td>\n",
       "      <td id=\"T_6f6ac_row6_col7\" class=\"data row6 col7\" >0.0251</td>\n",
       "      <td id=\"T_6f6ac_row6_col8\" class=\"data row6 col8\" >0.1710</td>\n",
       "    </tr>\n",
       "    <tr>\n",
       "      <th id=\"T_6f6ac_level0_row7\" class=\"row_heading level0 row7\" >catboost</th>\n",
       "      <td id=\"T_6f6ac_row7_col0\" class=\"data row7 col0\" >CatBoost Classifier</td>\n",
       "      <td id=\"T_6f6ac_row7_col1\" class=\"data row7 col1\" >0.8489</td>\n",
       "      <td id=\"T_6f6ac_row7_col2\" class=\"data row7 col2\" >0.6586</td>\n",
       "      <td id=\"T_6f6ac_row7_col3\" class=\"data row7 col3\" >0.0091</td>\n",
       "      <td id=\"T_6f6ac_row7_col4\" class=\"data row7 col4\" >0.3182</td>\n",
       "      <td id=\"T_6f6ac_row7_col5\" class=\"data row7 col5\" >0.0177</td>\n",
       "      <td id=\"T_6f6ac_row7_col6\" class=\"data row7 col6\" >0.0095</td>\n",
       "      <td id=\"T_6f6ac_row7_col7\" class=\"data row7 col7\" >0.0310</td>\n",
       "      <td id=\"T_6f6ac_row7_col8\" class=\"data row7 col8\" >6.1670</td>\n",
       "    </tr>\n",
       "    <tr>\n",
       "      <th id=\"T_6f6ac_level0_row8\" class=\"row_heading level0 row8\" >xgboost</th>\n",
       "      <td id=\"T_6f6ac_row8_col0\" class=\"data row8 col0\" >Extreme Gradient Boosting</td>\n",
       "      <td id=\"T_6f6ac_row8_col1\" class=\"data row8 col1\" >0.8469</td>\n",
       "      <td id=\"T_6f6ac_row8_col2\" class=\"data row8 col2\" >0.6464</td>\n",
       "      <td id=\"T_6f6ac_row8_col3\" class=\"data row8 col3\" >0.0285</td>\n",
       "      <td id=\"T_6f6ac_row8_col4\" class=\"data row8 col4\" >0.3498</td>\n",
       "      <td id=\"T_6f6ac_row8_col5\" class=\"data row8 col5\" >0.0526</td>\n",
       "      <td id=\"T_6f6ac_row8_col6\" class=\"data row8 col6\" >0.0311</td>\n",
       "      <td id=\"T_6f6ac_row8_col7\" class=\"data row8 col7\" >0.0623</td>\n",
       "      <td id=\"T_6f6ac_row8_col8\" class=\"data row8 col8\" >11.1110</td>\n",
       "    </tr>\n",
       "    <tr>\n",
       "      <th id=\"T_6f6ac_level0_row9\" class=\"row_heading level0 row9\" >knn</th>\n",
       "      <td id=\"T_6f6ac_row9_col0\" class=\"data row9 col0\" >K Neighbors Classifier</td>\n",
       "      <td id=\"T_6f6ac_row9_col1\" class=\"data row9 col1\" >0.8329</td>\n",
       "      <td id=\"T_6f6ac_row9_col2\" class=\"data row9 col2\" >0.5399</td>\n",
       "      <td id=\"T_6f6ac_row9_col3\" class=\"data row9 col3\" >0.0457</td>\n",
       "      <td id=\"T_6f6ac_row9_col4\" class=\"data row9 col4\" >0.2203</td>\n",
       "      <td id=\"T_6f6ac_row9_col5\" class=\"data row9 col5\" >0.0757</td>\n",
       "      <td id=\"T_6f6ac_row9_col6\" class=\"data row9 col6\" >0.0255</td>\n",
       "      <td id=\"T_6f6ac_row9_col7\" class=\"data row9 col7\" >0.0354</td>\n",
       "      <td id=\"T_6f6ac_row9_col8\" class=\"data row9 col8\" >0.1850</td>\n",
       "    </tr>\n",
       "    <tr>\n",
       "      <th id=\"T_6f6ac_level0_row10\" class=\"row_heading level0 row10\" >rf</th>\n",
       "      <td id=\"T_6f6ac_row10_col0\" class=\"data row10 col0\" >Random Forest Classifier</td>\n",
       "      <td id=\"T_6f6ac_row10_col1\" class=\"data row10 col1\" >0.8302</td>\n",
       "      <td id=\"T_6f6ac_row10_col2\" class=\"data row10 col2\" >0.6032</td>\n",
       "      <td id=\"T_6f6ac_row10_col3\" class=\"data row10 col3\" >0.0806</td>\n",
       "      <td id=\"T_6f6ac_row10_col4\" class=\"data row10 col4\" >0.2711</td>\n",
       "      <td id=\"T_6f6ac_row10_col5\" class=\"data row10 col5\" >0.1241</td>\n",
       "      <td id=\"T_6f6ac_row10_col6\" class=\"data row10 col6\" >0.0599</td>\n",
       "      <td id=\"T_6f6ac_row10_col7\" class=\"data row10 col7\" >0.0736</td>\n",
       "      <td id=\"T_6f6ac_row10_col8\" class=\"data row10 col8\" >1.2940</td>\n",
       "    </tr>\n",
       "    <tr>\n",
       "      <th id=\"T_6f6ac_level0_row11\" class=\"row_heading level0 row11\" >et</th>\n",
       "      <td id=\"T_6f6ac_row11_col0\" class=\"data row11 col0\" >Extra Trees Classifier</td>\n",
       "      <td id=\"T_6f6ac_row11_col1\" class=\"data row11 col1\" >0.8061</td>\n",
       "      <td id=\"T_6f6ac_row11_col2\" class=\"data row11 col2\" >0.5843</td>\n",
       "      <td id=\"T_6f6ac_row11_col3\" class=\"data row11 col3\" >0.1174</td>\n",
       "      <td id=\"T_6f6ac_row11_col4\" class=\"data row11 col4\" >0.2207</td>\n",
       "      <td id=\"T_6f6ac_row11_col5\" class=\"data row11 col5\" >0.1531</td>\n",
       "      <td id=\"T_6f6ac_row11_col6\" class=\"data row11 col6\" >0.0552</td>\n",
       "      <td id=\"T_6f6ac_row11_col7\" class=\"data row11 col7\" >0.0587</td>\n",
       "      <td id=\"T_6f6ac_row11_col8\" class=\"data row11 col8\" >1.3770</td>\n",
       "    </tr>\n",
       "    <tr>\n",
       "      <th id=\"T_6f6ac_level0_row12\" class=\"row_heading level0 row12\" >svm</th>\n",
       "      <td id=\"T_6f6ac_row12_col0\" class=\"data row12 col0\" >SVM - Linear Kernel</td>\n",
       "      <td id=\"T_6f6ac_row12_col1\" class=\"data row12 col1\" >0.7963</td>\n",
       "      <td id=\"T_6f6ac_row12_col2\" class=\"data row12 col2\" >0.0000</td>\n",
       "      <td id=\"T_6f6ac_row12_col3\" class=\"data row12 col3\" >0.0994</td>\n",
       "      <td id=\"T_6f6ac_row12_col4\" class=\"data row12 col4\" >0.2621</td>\n",
       "      <td id=\"T_6f6ac_row12_col5\" class=\"data row12 col5\" >0.0669</td>\n",
       "      <td id=\"T_6f6ac_row12_col6\" class=\"data row12 col6\" >0.0235</td>\n",
       "      <td id=\"T_6f6ac_row12_col7\" class=\"data row12 col7\" >0.0430</td>\n",
       "      <td id=\"T_6f6ac_row12_col8\" class=\"data row12 col8\" >0.3380</td>\n",
       "    </tr>\n",
       "    <tr>\n",
       "      <th id=\"T_6f6ac_level0_row13\" class=\"row_heading level0 row13\" >dt</th>\n",
       "      <td id=\"T_6f6ac_row13_col0\" class=\"data row13 col0\" >Decision Tree Classifier</td>\n",
       "      <td id=\"T_6f6ac_row13_col1\" class=\"data row13 col1\" >0.7542</td>\n",
       "      <td id=\"T_6f6ac_row13_col2\" class=\"data row13 col2\" >0.5362</td>\n",
       "      <td id=\"T_6f6ac_row13_col3\" class=\"data row13 col3\" >0.2244</td>\n",
       "      <td id=\"T_6f6ac_row13_col4\" class=\"data row13 col4\" >0.2056</td>\n",
       "      <td id=\"T_6f6ac_row13_col5\" class=\"data row13 col5\" >0.2145</td>\n",
       "      <td id=\"T_6f6ac_row13_col6\" class=\"data row13 col6\" >0.0692</td>\n",
       "      <td id=\"T_6f6ac_row13_col7\" class=\"data row13 col7\" >0.0693</td>\n",
       "      <td id=\"T_6f6ac_row13_col8\" class=\"data row13 col8\" >0.0690</td>\n",
       "    </tr>\n",
       "    <tr>\n",
       "      <th id=\"T_6f6ac_level0_row14\" class=\"row_heading level0 row14\" >nb</th>\n",
       "      <td id=\"T_6f6ac_row14_col0\" class=\"data row14 col0\" >Naive Bayes</td>\n",
       "      <td id=\"T_6f6ac_row14_col1\" class=\"data row14 col1\" >0.4798</td>\n",
       "      <td id=\"T_6f6ac_row14_col2\" class=\"data row14 col2\" >0.6026</td>\n",
       "      <td id=\"T_6f6ac_row14_col3\" class=\"data row14 col3\" >0.6882</td>\n",
       "      <td id=\"T_6f6ac_row14_col4\" class=\"data row14 col4\" >0.1798</td>\n",
       "      <td id=\"T_6f6ac_row14_col5\" class=\"data row14 col5\" >0.2842</td>\n",
       "      <td id=\"T_6f6ac_row14_col6\" class=\"data row14 col6\" >0.0619</td>\n",
       "      <td id=\"T_6f6ac_row14_col7\" class=\"data row14 col7\" >0.0957</td>\n",
       "      <td id=\"T_6f6ac_row14_col8\" class=\"data row14 col8\" >0.0290</td>\n",
       "    </tr>\n",
       "    <tr>\n",
       "      <th id=\"T_6f6ac_level0_row15\" class=\"row_heading level0 row15\" >qda</th>\n",
       "      <td id=\"T_6f6ac_row15_col0\" class=\"data row15 col0\" >Quadratic Discriminant Analysis</td>\n",
       "      <td id=\"T_6f6ac_row15_col1\" class=\"data row15 col1\" >0.4519</td>\n",
       "      <td id=\"T_6f6ac_row15_col2\" class=\"data row15 col2\" >0.5068</td>\n",
       "      <td id=\"T_6f6ac_row15_col3\" class=\"data row15 col3\" >0.5853</td>\n",
       "      <td id=\"T_6f6ac_row15_col4\" class=\"data row15 col4\" >0.1380</td>\n",
       "      <td id=\"T_6f6ac_row15_col5\" class=\"data row15 col5\" >0.2164</td>\n",
       "      <td id=\"T_6f6ac_row15_col6\" class=\"data row15 col6\" >0.0060</td>\n",
       "      <td id=\"T_6f6ac_row15_col7\" class=\"data row15 col7\" >0.0108</td>\n",
       "      <td id=\"T_6f6ac_row15_col8\" class=\"data row15 col8\" >0.0390</td>\n",
       "    </tr>\n",
       "  </tbody>\n",
       "</table>\n"
      ],
      "text/plain": [
       "<pandas.io.formats.style.Styler object at 0x7fe5d3756100>"
      ]
     },
     "metadata": {},
     "output_type": "display_data"
    }
   ],
   "source": [
    "# compare baseline models\n",
    "best = compare_models()"
   ]
  },
  {
   "cell_type": "code",
   "execution_count": 143,
   "metadata": {},
   "outputs": [
    {
     "data": {
      "image/png": "[encoded data removed]",
      "text/plain": [
       "<Figure size 800x500 with 1 Axes>"
      ]
     },
     "metadata": {
      "needs_background": "light"
     },
     "output_type": "display_data"
    }
   ],
   "source": [
    "# plot feature importance\n",
    "%matplotlib inline\n",
    "plot_model(best, plot = 'feature')"
   ]
  },
  {
   "cell_type": "code",
   "execution_count": 144,
   "metadata": {},
   "outputs": [
    {
     "data": {
      "text/html": [
       "<style type=\"text/css\">\n",
       "</style>\n",
       "<table id=\"T_07ff5_\">\n",
       "  <thead>\n",
       "    <tr>\n",
       "      <th class=\"blank level0\" >&nbsp;</th>\n",
       "      <th class=\"col_heading level0 col0\" >Model</th>\n",
       "      <th class=\"col_heading level0 col1\" >Accuracy</th>\n",
       "      <th class=\"col_heading level0 col2\" >AUC</th>\n",
       "      <th class=\"col_heading level0 col3\" >Recall</th>\n",
       "      <th class=\"col_heading level0 col4\" >Prec.</th>\n",
       "      <th class=\"col_heading level0 col5\" >F1</th>\n",
       "      <th class=\"col_heading level0 col6\" >Kappa</th>\n",
       "      <th class=\"col_heading level0 col7\" >MCC</th>\n",
       "    </tr>\n",
       "  </thead>\n",
       "  <tbody>\n",
       "    <tr>\n",
       "      <th id=\"T_07ff5_level0_row0\" class=\"row_heading level0 row0\" >0</th>\n",
       "      <td id=\"T_07ff5_row0_col0\" class=\"data row0 col0\" >Logistic Regression</td>\n",
       "      <td id=\"T_07ff5_row0_col1\" class=\"data row0 col1\" >0.8492</td>\n",
       "      <td id=\"T_07ff5_row0_col2\" class=\"data row0 col2\" >0.6149</td>\n",
       "      <td id=\"T_07ff5_row0_col3\" class=\"data row0 col3\" >0.0000</td>\n",
       "      <td id=\"T_07ff5_row0_col4\" class=\"data row0 col4\" >0.0000</td>\n",
       "      <td id=\"T_07ff5_row0_col5\" class=\"data row0 col5\" >0.0000</td>\n",
       "      <td id=\"T_07ff5_row0_col6\" class=\"data row0 col6\" >0.0000</td>\n",
       "      <td id=\"T_07ff5_row0_col7\" class=\"data row0 col7\" >0.0000</td>\n",
       "    </tr>\n",
       "  </tbody>\n",
       "</table>\n"
      ],
      "text/plain": [
       "<pandas.io.formats.style.Styler object at 0x7fe5d3923670>"
      ]
     },
     "metadata": {},
     "output_type": "display_data"
    }
   ],
   "source": [
    "# predict on test set\n",
    "holdout_pred = predict_model(best)"
   ]
  },
  {
   "cell_type": "markdown",
   "metadata": {},
   "source": [
    "### Saving the model using pickle"
   ]
  },
  {
   "cell_type": "code",
   "execution_count": 147,
   "metadata": {},
   "outputs": [],
   "source": [
    "import pickle\n",
    "# save the model to disk\n",
    "filename = 'logistic_regression_pipeline.sav'\n",
    "pickle.dump(best, open(filename, 'wb'))"
   ]
  },
  {
   "cell_type": "code",
   "execution_count": 149,
   "metadata": {},
   "outputs": [
    {
     "name": "stdout",
     "output_type": "stream",
     "text": [
      "LogisticRegression(C=1.0, class_weight=None, dual=False, fit_intercept=True,\n",
      "                   intercept_scaling=1, l1_ratio=None, max_iter=1000,\n",
      "                   multi_class='auto', n_jobs=None, penalty='l2',\n",
      "                   random_state=123, solver='lbfgs', tol=0.0001, verbose=0,\n",
      "                   warm_start=False)\n"
     ]
    }
   ],
   "source": [
    "# load the model from disk\n",
    "loaded_model = pickle.load(open(filename, 'rb'))\n",
    "print(loaded_model)"
   ]
  }
 ],
 "metadata": {
  "kernelspec": {
   "display_name": "default:Python",
   "language": "python",
   "name": "conda-env-default-py"
  },
  "language_info": {
   "codemirror_mode": {
    "name": "ipython",
    "version": 3
   },
   "file_extension": ".py",
   "mimetype": "text/x-python",
   "name": "python",
   "nbconvert_exporter": "python",
   "pygments_lexer": "ipython3",
   "version": "3.9.7"
  },
  "vscode": {
   "interpreter": {
    "hash": "4f7924c4c56b083e0e50eadfe7ef592a7a8ef70df33a0047f82280e6be1afe15"
   }
  }
 },
 "nbformat": 4,
 "nbformat_minor": 4
}
